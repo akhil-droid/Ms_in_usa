{
 "cells": [
  {
   "cell_type": "markdown",
   "metadata": {},
   "source": [
    "# Importing libraries"
   ]
  },
  {
   "cell_type": "code",
   "execution_count": 1,
   "metadata": {},
   "outputs": [],
   "source": [
    "import pandas as pd\n",
    "import numpy as np\n",
    "import matplotlib.pyplot as py\n",
    "from sklearn.svm import SVC\n",
    "from sklearn.model_selection import train_test_split\n",
    "from sklearn.model_selection import GridSearchCV\n",
    "from sklearn.impute import SimpleImputer\n",
    "from sklearn.preprocessing import StandardScaler\n",
    "from imblearn.over_sampling import RandomOverSampler"
   ]
  },
  {
   "cell_type": "markdown",
   "metadata": {},
   "source": [
    "# Importing data set "
   ]
  },
  {
   "cell_type": "code",
   "execution_count": 2,
   "metadata": {},
   "outputs": [
    {
     "name": "stdout",
     "output_type": "stream",
     "text": [
      "     admit    gre   gpa  ses  Gender_Male  Race  rank\n",
      "0        0  380.0  3.61  1.0          0.0     3   3.0\n",
      "1        1  660.0  3.67  2.0          0.0     2   3.0\n",
      "2        1    NaN  4.00  2.0          0.0     2   1.0\n",
      "3        1  640.0  3.19  1.0          1.0     2   4.0\n",
      "4        0  520.0  2.93  3.0          1.0     2   4.0\n",
      "..     ...    ...   ...  ...          ...   ...   ...\n",
      "395      0  620.0  4.00  2.0          0.0     2   2.0\n",
      "396      0  560.0  3.04  2.0          0.0     1   3.0\n",
      "397      0  460.0  2.63  3.0          0.0     2   2.0\n",
      "398      0  700.0  3.65  1.0          1.0     1   2.0\n",
      "399      0  600.0  3.89  2.0          1.0     3   3.0\n",
      "\n",
      "[400 rows x 7 columns]        gre   gpa  ses  Gender_Male  Race  rank\n",
      "0    380.0  3.61  1.0          0.0     3   3.0\n",
      "1    660.0  3.67  2.0          0.0     2   3.0\n",
      "2      NaN  4.00  2.0          0.0     2   1.0\n",
      "3    640.0  3.19  1.0          1.0     2   4.0\n",
      "4    520.0  2.93  3.0          1.0     2   4.0\n",
      "..     ...   ...  ...          ...   ...   ...\n",
      "395  620.0  4.00  2.0          0.0     2   2.0\n",
      "396  560.0  3.04  2.0          0.0     1   3.0\n",
      "397  460.0  2.63  3.0          0.0     2   2.0\n",
      "398  700.0  3.65  1.0          1.0     1   2.0\n",
      "399  600.0  3.89  2.0          1.0     3   3.0\n",
      "\n",
      "[400 rows x 6 columns] 0      0\n",
      "1      1\n",
      "2      1\n",
      "3      1\n",
      "4      0\n",
      "      ..\n",
      "395    0\n",
      "396    0\n",
      "397    0\n",
      "398    0\n",
      "399    0\n",
      "Name: admit, Length: 400, dtype: int64\n"
     ]
    }
   ],
   "source": [
    "dt=pd.read_csv('usa.csv')\n",
    "x=dt.iloc[:,1:]\n",
    "y=dt.iloc[:,0]\n",
    "print(dt,x,y)"
   ]
  },
  {
   "cell_type": "markdown",
   "metadata": {},
   "source": [
    "# Data Science operations\n",
    "### 1) Finding and managing the missing vlaues"
   ]
  },
  {
   "cell_type": "code",
   "execution_count": 3,
   "metadata": {},
   "outputs": [
    {
     "data": {
      "text/plain": [
       "gre            2\n",
       "gpa            1\n",
       "ses            1\n",
       "Gender_Male    1\n",
       "Race           0\n",
       "rank           1\n",
       "dtype: int64"
      ]
     },
     "execution_count": 3,
     "metadata": {},
     "output_type": "execute_result"
    }
   ],
   "source": [
    "x.isnull().sum()"
   ]
  },
  {
   "cell_type": "code",
   "execution_count": 4,
   "metadata": {},
   "outputs": [],
   "source": [
    "# perfomring operations from columns 0 to 3\n",
    "\n",
    "imputer = SimpleImputer(missing_values=np.nan, strategy='mean')\n",
    "imputer1 = imputer.fit(x.iloc[0:,0:4])\n",
    "x.iloc[0:,0:4] = imputer1.transform(x.iloc[0:,0:4])"
   ]
  },
  {
   "cell_type": "code",
   "execution_count": 5,
   "metadata": {},
   "outputs": [
    {
     "data": {
      "text/plain": [
       "gre            0\n",
       "gpa            0\n",
       "ses            0\n",
       "Gender_Male    0\n",
       "Race           0\n",
       "rank           1\n",
       "dtype: int64"
      ]
     },
     "execution_count": 5,
     "metadata": {},
     "output_type": "execute_result"
    }
   ],
   "source": [
    "x.isnull().sum()"
   ]
  },
  {
   "cell_type": "code",
   "execution_count": 6,
   "metadata": {},
   "outputs": [],
   "source": [
    "# performing operations(missing values) on the rank column\n",
    "\n",
    "imputer=SimpleImputer(missing_values=np.nan , strategy='mean')\n",
    "imputer1=imputer.fit(x.iloc[:,:])\n",
    "x.iloc[:,:]=imputer1.transform(x.iloc[:,:])"
   ]
  },
  {
   "cell_type": "code",
   "execution_count": 7,
   "metadata": {},
   "outputs": [
    {
     "name": "stdout",
     "output_type": "stream",
     "text": [
      "            gre   gpa  ses  Gender_Male  Race  rank\n",
      "0    380.000000  3.61  1.0          0.0   3.0   3.0\n",
      "1    660.000000  3.67  2.0          0.0   2.0   3.0\n",
      "2    602.261307  4.00  2.0          0.0   2.0   1.0\n",
      "3    640.000000  3.19  1.0          1.0   2.0   4.0\n",
      "4    520.000000  2.93  3.0          1.0   2.0   4.0\n",
      "..          ...   ...  ...          ...   ...   ...\n",
      "395  620.000000  4.00  2.0          0.0   2.0   2.0\n",
      "396  560.000000  3.04  2.0          0.0   1.0   3.0\n",
      "397  460.000000  2.63  3.0          0.0   2.0   2.0\n",
      "398  700.000000  3.65  1.0          1.0   1.0   2.0\n",
      "399  600.000000  3.89  2.0          1.0   3.0   3.0\n",
      "\n",
      "[400 rows x 6 columns]\n"
     ]
    }
   ],
   "source": [
    "x.isnull().sum()\n",
    "print(x)"
   ]
  },
  {
   "cell_type": "markdown",
   "metadata": {},
   "source": [
    "### 2) finding and eliminating the outliers\n",
    "####      we can do this by using IQR or Z-score methods"
   ]
  },
  {
   "cell_type": "code",
   "execution_count": 8,
   "metadata": {},
   "outputs": [
    {
     "data": {
      "image/png": "[encoded data removed]",
      "text/plain": [
       "<Figure size 432x288 with 1 Axes>"
      ]
     },
     "metadata": {
      "needs_background": "light"
     },
     "output_type": "display_data"
    }
   ],
   "source": [
    "# finding outliers in gre column\n",
    "\n",
    "py.hist(x.gre,bins=5,rwidth=0.5)\n",
    "py.xlabel('gre')\n",
    "py.ylabel('count')\n",
    "py.show()"
   ]
  },
  {
   "cell_type": "code",
   "execution_count": 9,
   "metadata": {},
   "outputs": [
    {
     "data": {
      "image/png": "[encoded data removed]",
      "text/plain": [
       "<Figure size 432x288 with 1 Axes>"
      ]
     },
     "metadata": {
      "needs_background": "light"
     },
     "output_type": "display_data"
    }
   ],
   "source": [
    "# finding outliers in gpa column\n",
    "\n",
    "py.hist(x.gpa,bins=5,rwidth=0.5)\n",
    "py.xlabel('gpa')\n",
    "py.ylabel('count')\n",
    "py.show()"
   ]
  },
  {
   "cell_type": "code",
   "execution_count": 10,
   "metadata": {},
   "outputs": [
    {
     "data": {
      "image/png": "[encoded data removed]",
      "text/plain": [
       "<Figure size 432x288 with 1 Axes>"
      ]
     },
     "metadata": {
      "needs_background": "light"
     },
     "output_type": "display_data"
    }
   ],
   "source": [
    "# finding outliers in ses column\n",
    "\n",
    "py.hist(x.ses,bins=5,rwidth=0.5)\n",
    "py.xlabel('ses')\n",
    "py.ylabel('count')\n",
    "py.show()"
   ]
  },
  {
   "cell_type": "code",
   "execution_count": 11,
   "metadata": {},
   "outputs": [
    {
     "data": {
      "image/png": "[encoded data removed]",
      "text/plain": [
       "<Figure size 432x288 with 1 Axes>"
      ]
     },
     "metadata": {
      "needs_background": "light"
     },
     "output_type": "display_data"
    }
   ],
   "source": [
    "# finding outliers in Gender_Male column\n",
    "\n",
    "py.hist(x.Gender_Male,bins=5,rwidth=0.5)\n",
    "py.xlabel('Gender_Male')\n",
    "py.ylabel('count')\n",
    "py.show()"
   ]
  },
  {
   "cell_type": "code",
   "execution_count": 12,
   "metadata": {},
   "outputs": [
    {
     "data": {
      "image/png": "[encoded data removed]",
      "text/plain": [
       "<Figure size 432x288 with 1 Axes>"
      ]
     },
     "metadata": {
      "needs_background": "light"
     },
     "output_type": "display_data"
    }
   ],
   "source": [
    "# finding outliers in Race column\n",
    "\n",
    "py.hist(x.Race,bins=5,rwidth=0.5)\n",
    "py.xlabel('Race')\n",
    "py.ylabel('count')\n",
    "py.show()"
   ]
  },
  {
   "cell_type": "code",
   "execution_count": 13,
   "metadata": {},
   "outputs": [
    {
     "data": {
      "text/html": [
       "<div>\n",
       "<style scoped>\n",
       "    .dataframe tbody tr th:only-of-type {\n",
       "        vertical-align: middle;\n",
       "    }\n",
       "\n",
       "    .dataframe tbody tr th {\n",
       "        vertical-align: top;\n",
       "    }\n",
       "\n",
       "    .dataframe thead th {\n",
       "        text-align: right;\n",
       "    }\n",
       "</style>\n",
       "<table border=\"1\" class=\"dataframe\">\n",
       "  <thead>\n",
       "    <tr style=\"text-align: right;\">\n",
       "      <th></th>\n",
       "      <th>gre</th>\n",
       "      <th>gpa</th>\n",
       "      <th>ses</th>\n",
       "      <th>Gender_Male</th>\n",
       "      <th>Race</th>\n",
       "      <th>Rank</th>\n",
       "    </tr>\n",
       "  </thead>\n",
       "  <tbody>\n",
       "    <tr>\n",
       "      <th>0</th>\n",
       "      <td>380.000000</td>\n",
       "      <td>3.61</td>\n",
       "      <td>1.0</td>\n",
       "      <td>0.0</td>\n",
       "      <td>3.0</td>\n",
       "      <td>3.0</td>\n",
       "    </tr>\n",
       "    <tr>\n",
       "      <th>1</th>\n",
       "      <td>660.000000</td>\n",
       "      <td>3.67</td>\n",
       "      <td>2.0</td>\n",
       "      <td>0.0</td>\n",
       "      <td>2.0</td>\n",
       "      <td>3.0</td>\n",
       "    </tr>\n",
       "    <tr>\n",
       "      <th>2</th>\n",
       "      <td>602.261307</td>\n",
       "      <td>4.00</td>\n",
       "      <td>2.0</td>\n",
       "      <td>0.0</td>\n",
       "      <td>2.0</td>\n",
       "      <td>1.0</td>\n",
       "    </tr>\n",
       "    <tr>\n",
       "      <th>3</th>\n",
       "      <td>640.000000</td>\n",
       "      <td>3.19</td>\n",
       "      <td>1.0</td>\n",
       "      <td>1.0</td>\n",
       "      <td>2.0</td>\n",
       "      <td>4.0</td>\n",
       "    </tr>\n",
       "    <tr>\n",
       "      <th>4</th>\n",
       "      <td>520.000000</td>\n",
       "      <td>2.93</td>\n",
       "      <td>3.0</td>\n",
       "      <td>1.0</td>\n",
       "      <td>2.0</td>\n",
       "      <td>4.0</td>\n",
       "    </tr>\n",
       "    <tr>\n",
       "      <th>...</th>\n",
       "      <td>...</td>\n",
       "      <td>...</td>\n",
       "      <td>...</td>\n",
       "      <td>...</td>\n",
       "      <td>...</td>\n",
       "      <td>...</td>\n",
       "    </tr>\n",
       "    <tr>\n",
       "      <th>395</th>\n",
       "      <td>620.000000</td>\n",
       "      <td>4.00</td>\n",
       "      <td>2.0</td>\n",
       "      <td>0.0</td>\n",
       "      <td>2.0</td>\n",
       "      <td>2.0</td>\n",
       "    </tr>\n",
       "    <tr>\n",
       "      <th>396</th>\n",
       "      <td>560.000000</td>\n",
       "      <td>3.04</td>\n",
       "      <td>2.0</td>\n",
       "      <td>0.0</td>\n",
       "      <td>1.0</td>\n",
       "      <td>3.0</td>\n",
       "    </tr>\n",
       "    <tr>\n",
       "      <th>397</th>\n",
       "      <td>460.000000</td>\n",
       "      <td>2.63</td>\n",
       "      <td>3.0</td>\n",
       "      <td>0.0</td>\n",
       "      <td>2.0</td>\n",
       "      <td>2.0</td>\n",
       "    </tr>\n",
       "    <tr>\n",
       "      <th>398</th>\n",
       "      <td>700.000000</td>\n",
       "      <td>3.65</td>\n",
       "      <td>1.0</td>\n",
       "      <td>1.0</td>\n",
       "      <td>1.0</td>\n",
       "      <td>2.0</td>\n",
       "    </tr>\n",
       "    <tr>\n",
       "      <th>399</th>\n",
       "      <td>600.000000</td>\n",
       "      <td>3.89</td>\n",
       "      <td>2.0</td>\n",
       "      <td>1.0</td>\n",
       "      <td>3.0</td>\n",
       "      <td>3.0</td>\n",
       "    </tr>\n",
       "  </tbody>\n",
       "</table>\n",
       "<p>400 rows × 6 columns</p>\n",
       "</div>"
      ],
      "text/plain": [
       "            gre   gpa  ses  Gender_Male  Race  Rank\n",
       "0    380.000000  3.61  1.0          0.0   3.0   3.0\n",
       "1    660.000000  3.67  2.0          0.0   2.0   3.0\n",
       "2    602.261307  4.00  2.0          0.0   2.0   1.0\n",
       "3    640.000000  3.19  1.0          1.0   2.0   4.0\n",
       "4    520.000000  2.93  3.0          1.0   2.0   4.0\n",
       "..          ...   ...  ...          ...   ...   ...\n",
       "395  620.000000  4.00  2.0          0.0   2.0   2.0\n",
       "396  560.000000  3.04  2.0          0.0   1.0   3.0\n",
       "397  460.000000  2.63  3.0          0.0   2.0   2.0\n",
       "398  700.000000  3.65  1.0          1.0   1.0   2.0\n",
       "399  600.000000  3.89  2.0          1.0   3.0   3.0\n",
       "\n",
       "[400 rows x 6 columns]"
      ]
     },
     "execution_count": 13,
     "metadata": {},
     "output_type": "execute_result"
    }
   ],
   "source": [
    "#changing Rank from rank because x have the pre-defined method name rank and there is a possibilty of getting an error\n",
    "\n",
    "x[\"Rank\"]=x['rank']\n",
    "x.drop(['rank'],axis='columns')"
   ]
  },
  {
   "cell_type": "code",
   "execution_count": 14,
   "metadata": {},
   "outputs": [
    {
     "data": {
      "image/png": "[encoded data removed]",
      "text/plain": [
       "<Figure size 432x288 with 1 Axes>"
      ]
     },
     "metadata": {
      "needs_background": "light"
     },
     "output_type": "display_data"
    }
   ],
   "source": [
    "# finding outliers in Rank column\n",
    "\n",
    "py.hist(x.Rank,bins=5,rwidth=0.5)\n",
    "py.xlabel('Rank')\n",
    "py.ylabel('count')\n",
    "py.show()\n"
   ]
  },
  {
   "cell_type": "code",
   "execution_count": 15,
   "metadata": {},
   "outputs": [
    {
     "name": "stdout",
     "output_type": "stream",
     "text": [
      "            gre   gpa  ses  Gender_Male  Race  Rank\n",
      "0    380.000000  3.61  1.0          0.0   3.0   3.0\n",
      "1    660.000000  3.67  2.0          0.0   2.0   3.0\n",
      "2    602.261307  4.00  2.0          0.0   2.0   1.0\n",
      "3    640.000000  3.19  1.0          1.0   2.0   4.0\n",
      "4    520.000000  2.93  3.0          1.0   2.0   4.0\n",
      "..          ...   ...  ...          ...   ...   ...\n",
      "395  620.000000  4.00  2.0          0.0   2.0   2.0\n",
      "396  560.000000  3.04  2.0          0.0   1.0   3.0\n",
      "397  460.000000  2.63  3.0          0.0   2.0   2.0\n",
      "398  700.000000  3.65  1.0          1.0   1.0   2.0\n",
      "399  600.000000  3.89  2.0          1.0   3.0   3.0\n",
      "\n",
      "[400 rows x 6 columns]\n",
      "0      0\n",
      "1      1\n",
      "2      1\n",
      "3      1\n",
      "4      0\n",
      "      ..\n",
      "395    0\n",
      "396    0\n",
      "397    0\n",
      "398    0\n",
      "399    0\n",
      "Name: admit, Length: 400, dtype: int64\n",
      "            gre   gpa  ses  Gender_Male  Race  Rank\n",
      "0    380.000000  3.61  1.0          0.0   3.0   3.0\n",
      "1    660.000000  3.67  2.0          0.0   2.0   3.0\n",
      "2    602.261307  4.00  2.0          0.0   2.0   1.0\n",
      "3    640.000000  3.19  1.0          1.0   2.0   4.0\n",
      "4    520.000000  2.93  3.0          1.0   2.0   4.0\n",
      "..          ...   ...  ...          ...   ...   ...\n",
      "395  620.000000  4.00  2.0          0.0   2.0   2.0\n",
      "396  560.000000  3.04  2.0          0.0   1.0   3.0\n",
      "397  460.000000  2.63  3.0          0.0   2.0   2.0\n",
      "398  700.000000  3.65  1.0          1.0   1.0   2.0\n",
      "399  600.000000  3.89  2.0          1.0   3.0   3.0\n",
      "\n",
      "[400 rows x 6 columns]\n"
     ]
    }
   ],
   "source": [
    "outlier_col=['gre','gpa','ses','Race']\n",
    "x.drop(\"rank\",inplace=True,axis=1)\n",
    "print(x)\n",
    "print(y)\n",
    "data=x.copy()\n",
    "print(data)"
   ]
  },
  {
   "cell_type": "markdown",
   "metadata": {},
   "source": [
    "#### using z-score method\n",
    "#### formula z=(i-mean)/std"
   ]
  },
  {
   "cell_type": "code",
   "execution_count": 16,
   "metadata": {},
   "outputs": [
    {
     "name": "stdout",
     "output_type": "stream",
     "text": [
      "            gre   gpa  ses  Gender_Male  Race  Rank  admit\n",
      "0    380.000000  3.61  1.0          0.0   3.0   3.0      0\n",
      "1    660.000000  3.67  2.0          0.0   2.0   3.0      1\n",
      "2    602.261307  4.00  2.0          0.0   2.0   1.0      1\n",
      "3    640.000000  3.19  1.0          1.0   2.0   4.0      1\n",
      "4    520.000000  2.93  3.0          1.0   2.0   4.0      0\n",
      "..          ...   ...  ...          ...   ...   ...    ...\n",
      "395  620.000000  4.00  2.0          0.0   2.0   2.0      0\n",
      "396  560.000000  3.04  2.0          0.0   1.0   3.0      0\n",
      "397  460.000000  2.63  3.0          0.0   2.0   2.0      0\n",
      "398  700.000000  3.65  1.0          1.0   1.0   2.0      0\n",
      "399  600.000000  3.89  2.0          1.0   3.0   3.0      0\n",
      "\n",
      "[400 rows x 7 columns]\n"
     ]
    }
   ],
   "source": [
    "# here by using the z-score method we gonna indentify the outliers and we will eliminate that particular row\n",
    "# where the outlier is present\n",
    "\n",
    "# and to note that in our x dataframe we do not have the coulmn admit in it \n",
    "# soo here the problem arises because if we delete a outlier row from x then that particular row must also be deleted\n",
    "# from the admit column too.\n",
    "\n",
    "# soo to avoid this we will merge the admit column with x for this instance and after that we will seperate them again\n",
    "\n",
    "x['admit']=y.values\n",
    "print(x)\n",
    "\n",
    "# now we can perform the operations"
   ]
  },
  {
   "cell_type": "code",
   "execution_count": 17,
   "metadata": {},
   "outputs": [
    {
     "name": "stdout",
     "output_type": "stream",
     "text": [
      "[6400.0]\n",
      "0      True\n",
      "1      True\n",
      "2      True\n",
      "3      True\n",
      "4      True\n",
      "       ... \n",
      "395    True\n",
      "396    True\n",
      "397    True\n",
      "398    True\n",
      "399    True\n",
      "Name: gre, Length: 400, dtype: bool\n",
      "[30.49]\n",
      "0      True\n",
      "1      True\n",
      "2      True\n",
      "3      True\n",
      "4      True\n",
      "       ... \n",
      "395    True\n",
      "396    True\n",
      "397    True\n",
      "398    True\n",
      "399    True\n",
      "Name: gpa, Length: 399, dtype: bool\n",
      "[10.0]\n",
      "0      True\n",
      "1      True\n",
      "2      True\n",
      "3      True\n",
      "4      True\n",
      "       ... \n",
      "395    True\n",
      "396    True\n",
      "397    True\n",
      "398    True\n",
      "399    True\n",
      "Name: ses, Length: 398, dtype: bool\n",
      "[50.0]\n",
      "0      True\n",
      "1      True\n",
      "2      True\n",
      "3      True\n",
      "4      True\n",
      "       ... \n",
      "395    True\n",
      "396    True\n",
      "397    True\n",
      "398    True\n",
      "399    True\n",
      "Name: Race, Length: 397, dtype: bool\n"
     ]
    }
   ],
   "source": [
    "data=x.copy()\n",
    "def z(x):\n",
    "    outliers=[]\n",
    "    mean=np.mean(x)\n",
    "    std=np.std(x)\n",
    "    s=3\n",
    "    for i in x:\n",
    "        z_score=(i - mean)/std\n",
    "        if np.abs(z_score) > s:\n",
    "            outliers.append(i)\n",
    "    return outliers\n",
    "for i in outlier_col:\n",
    "    x1=data[i].values\n",
    "    x1=z(x1)\n",
    "    print(x1)\n",
    "    print(data[i] != x1[0])\n",
    "    data=data[(data[i] != x1[0])]"
   ]
  },
  {
   "cell_type": "code",
   "execution_count": 18,
   "metadata": {},
   "outputs": [
    {
     "name": "stdout",
     "output_type": "stream",
     "text": [
      "            gre   gpa  ses  Gender_Male  Race  Rank  admit\n",
      "0    380.000000  3.61  1.0          0.0   3.0   3.0      0\n",
      "1    660.000000  3.67  2.0          0.0   2.0   3.0      1\n",
      "2    602.261307  4.00  2.0          0.0   2.0   1.0      1\n",
      "3    640.000000  3.19  1.0          1.0   2.0   4.0      1\n",
      "4    520.000000  2.93  3.0          1.0   2.0   4.0      0\n",
      "..          ...   ...  ...          ...   ...   ...    ...\n",
      "395  620.000000  4.00  2.0          0.0   2.0   2.0      0\n",
      "396  560.000000  3.04  2.0          0.0   1.0   3.0      0\n",
      "397  460.000000  2.63  3.0          0.0   2.0   2.0      0\n",
      "398  700.000000  3.65  1.0          1.0   1.0   2.0      0\n",
      "399  600.000000  3.89  2.0          1.0   3.0   3.0      0\n",
      "\n",
      "[396 rows x 7 columns]\n"
     ]
    }
   ],
   "source": [
    "print(data)"
   ]
  },
  {
   "cell_type": "code",
   "execution_count": 19,
   "metadata": {},
   "outputs": [
    {
     "name": "stdout",
     "output_type": "stream",
     "text": [
      "            gre   gpa  ses  Gender_Male  Race  Rank\n",
      "0    380.000000  3.61  1.0          0.0   3.0   3.0\n",
      "1    660.000000  3.67  2.0          0.0   2.0   3.0\n",
      "2    602.261307  4.00  2.0          0.0   2.0   1.0\n",
      "3    640.000000  3.19  1.0          1.0   2.0   4.0\n",
      "4    520.000000  2.93  3.0          1.0   2.0   4.0\n",
      "..          ...   ...  ...          ...   ...   ...\n",
      "395  620.000000  4.00  2.0          0.0   2.0   2.0\n",
      "396  560.000000  3.04  2.0          0.0   1.0   3.0\n",
      "397  460.000000  2.63  3.0          0.0   2.0   2.0\n",
      "398  700.000000  3.65  1.0          1.0   1.0   2.0\n",
      "399  600.000000  3.89  2.0          1.0   3.0   3.0\n",
      "\n",
      "[396 rows x 6 columns]      admit\n",
      "0        0\n",
      "1        1\n",
      "2        1\n",
      "3        1\n",
      "4        0\n",
      "..     ...\n",
      "395      0\n",
      "396      0\n",
      "397      0\n",
      "398      0\n",
      "399      0\n",
      "\n",
      "[396 rows x 1 columns]\n"
     ]
    }
   ],
   "source": [
    "x=data.iloc[:,:6]\n",
    "y=data.iloc[:,6:]\n",
    "print(x,y)"
   ]
  },
  {
   "cell_type": "code",
   "execution_count": 20,
   "metadata": {},
   "outputs": [
    {
     "data": {
      "text/plain": [
       "count    396.000000\n",
       "mean     587.233643\n",
       "std      114.373032\n",
       "min      220.000000\n",
       "25%      520.000000\n",
       "50%      580.000000\n",
       "75%      660.000000\n",
       "max      800.000000\n",
       "Name: gre, dtype: float64"
      ]
     },
     "execution_count": 20,
     "metadata": {},
     "output_type": "execute_result"
    }
   ],
   "source": [
    "data=x.copy()\n",
    "data['gre'].describe()"
   ]
  },
  {
   "cell_type": "code",
   "execution_count": 27,
   "metadata": {},
   "outputs": [
    {
     "name": "stdout",
     "output_type": "stream",
     "text": [
      "              gre         gpa         ses  Gender_Male        Race        Rank\n",
      "count  396.000000  396.000000  396.000000   396.000000  396.000000  396.000000\n",
      "mean     0.633161    0.649946    0.498760     0.473425    0.483586    0.495357\n",
      "std      0.197195    0.218860    0.403307     0.499293    0.410752    0.315860\n",
      "min      0.000000    0.000000    0.000000     0.000000    0.000000    0.000000\n",
      "25%      0.517241    0.500000    0.000000     0.000000    0.000000    0.333333\n",
      "50%      0.620690    0.655172    0.500000     0.000000    0.500000    0.333333\n",
      "75%      0.758621    0.810345    1.000000     1.000000    1.000000    0.666667\n",
      "max      1.000000    1.000000    1.000000     1.000000    1.000000    1.000000\n",
      "          gre       gpa  ses  Gender_Male  Race      Rank\n",
      "0    0.275862  0.775862  0.0          0.0   1.0  0.666667\n",
      "1    0.758621  0.810345  0.5          0.0   0.5  0.666667\n",
      "2    0.659071  1.000000  0.5          0.0   0.5  0.000000\n",
      "3    0.724138  0.534483  0.0          1.0   0.5  1.000000\n",
      "4    0.517241  0.385057  1.0          1.0   0.5  1.000000\n",
      "..        ...       ...  ...          ...   ...       ...\n",
      "391  0.689655  1.000000  0.5          0.0   0.5  0.333333\n",
      "392  0.586207  0.448276  0.5          0.0   0.0  0.666667\n",
      "393  0.413793  0.212644  1.0          0.0   0.5  0.333333\n",
      "394  0.827586  0.798851  0.0          1.0   0.0  0.333333\n",
      "395  0.655172  0.936782  0.5          1.0   1.0  0.666667\n",
      "\n",
      "[396 rows x 6 columns]\n"
     ]
    }
   ],
   "source": [
    "# performing feature scaling techniques to scale down the data\n",
    "# the most popular methods used in feature scaling are\n",
    "# 1-> MinMaxScaler 2-> StandardScaler\n",
    "data=x.copy()\n",
    "lis=list(data.columns)\n",
    "# scale=StandardScaler()\n",
    "# scale.fit(data[lis])\n",
    "# data=pd.DataFrame(scale.transform(data[lis]),columns=lis)\n",
    "# print(data.describe())\n",
    "\n",
    "from sklearn.preprocessing import MinMaxScaler\n",
    "scale=MinMaxScaler()\n",
    "scale.fit(data[lis])\n",
    "# data=pd.DataFrame(scale.transform(data[lis]),columns=lis)\n",
    "# print(data.describe())\n",
    "# print(data)\n",
    "\n",
    "# saving the model for future scaling on the prediction data\n",
    "import pickle\n",
    "pickle.dump(scale,open('scaling_model.pkl','wb'))\n",
    "scale=pickle.load(open('scaling_model.pkl','rb'))\n",
    "data=pd.DataFrame(scale.transform(data[lis]),columns=lis)\n",
    "print(data.describe())\n",
    "print(data)"
   ]
  },
  {
   "cell_type": "code",
   "execution_count": 278,
   "metadata": {},
   "outputs": [
    {
     "name": "stdout",
     "output_type": "stream",
     "text": [
      "          gre       gpa  ses  Gender_Male  Race      Rank\n",
      "0    0.275862  0.775862  0.0          0.0   1.0  0.666667\n",
      "1    0.758621  0.810345  0.5          0.0   0.5  0.666667\n",
      "2    0.659071  1.000000  0.5          0.0   0.5  0.000000\n",
      "3    0.724138  0.534483  0.0          1.0   0.5  1.000000\n",
      "4    0.517241  0.385057  1.0          1.0   0.5  1.000000\n",
      "..        ...       ...  ...          ...   ...       ...\n",
      "391  0.689655  1.000000  0.5          0.0   0.5  0.333333\n",
      "392  0.586207  0.448276  0.5          0.0   0.0  0.666667\n",
      "393  0.413793  0.212644  1.0          0.0   0.5  0.333333\n",
      "394  0.827586  0.798851  0.0          1.0   0.0  0.333333\n",
      "395  0.655172  0.936782  0.5          1.0   1.0  0.666667\n",
      "\n",
      "[396 rows x 6 columns]\n",
      "     admit\n",
      "0        0\n",
      "1        1\n",
      "2        1\n",
      "3        1\n",
      "4        0\n",
      "..     ...\n",
      "395      0\n",
      "396      0\n",
      "397      0\n",
      "398      0\n",
      "399      0\n",
      "\n",
      "[396 rows x 1 columns]\n"
     ]
    }
   ],
   "source": [
    "x=data.copy()\n",
    "print(x)\n",
    "print(y)"
   ]
  },
  {
   "cell_type": "markdown",
   "metadata": {},
   "source": [
    "# checking the data is balanced or not"
   ]
  },
  {
   "cell_type": "code",
   "execution_count": 279,
   "metadata": {
    "scrolled": true
   },
   "outputs": [
    {
     "data": {
      "text/plain": [
       "<AxesSubplot:xlabel='admit'>"
      ]
     },
     "execution_count": 279,
     "metadata": {},
     "output_type": "execute_result"
    },
    {
     "data": {
      "image/png": "[encoded data removed]",
      "text/plain": [
       "<Figure size 720x720 with 1 Axes>"
      ]
     },
     "metadata": {
      "needs_background": "light"
     },
     "output_type": "display_data"
    }
   ],
   "source": [
    "y.value_counts().plot(kind='bar',figsize=(10,10))"
   ]
  },
  {
   "cell_type": "code",
   "execution_count": 280,
   "metadata": {},
   "outputs": [
    {
     "name": "stdout",
     "output_type": "stream",
     "text": [
      "(125, 1) (271, 1)\n"
     ]
    }
   ],
   "source": [
    "yes=y[y.values==1]\n",
    "no=y[y.values==0]\n",
    "print(yes.shape,no.shape)\n"
   ]
  },
  {
   "cell_type": "code",
   "execution_count": 281,
   "metadata": {},
   "outputs": [
    {
     "name": "stdout",
     "output_type": "stream",
     "text": [
      "(542, 6) (542, 1)\n"
     ]
    }
   ],
   "source": [
    "# we can see that the data is imbalanced and we can make it a balanced dataset \n",
    "# by performing undersampling,oversampling,SMOTETotek \n",
    "\n",
    "#performing oversampling technique to balance the data\n",
    "\n",
    "\n",
    "os=RandomOverSampler()\n",
    "X,Y=os.fit_resample(x,y)\n",
    "print(X.shape,Y.shape)"
   ]
  },
  {
   "cell_type": "code",
   "execution_count": 282,
   "metadata": {},
   "outputs": [
    {
     "data": {
      "text/plain": [
       "<AxesSubplot:xlabel='admit'>"
      ]
     },
     "execution_count": 282,
     "metadata": {},
     "output_type": "execute_result"
    },
    {
     "data": {
      "image/png": "[encoded data removed]",
      "text/plain": [
       "<Figure size 720x720 with 1 Axes>"
      ]
     },
     "metadata": {
      "needs_background": "light"
     },
     "output_type": "display_data"
    }
   ],
   "source": [
    "Y.value_counts().plot(kind='bar',figsize=(10,10))"
   ]
  },
  {
   "cell_type": "code",
   "execution_count": 283,
   "metadata": {},
   "outputs": [
    {
     "name": "stdout",
     "output_type": "stream",
     "text": [
      "          gre       gpa  ses  Gender_Male  Race      Rank\n",
      "0    0.275862  0.775862  0.0          0.0   1.0  0.666667\n",
      "1    0.758621  0.810345  0.5          0.0   0.5  0.666667\n",
      "2    0.659071  1.000000  0.5          0.0   0.5  0.000000\n",
      "3    0.724138  0.534483  0.0          1.0   0.5  1.000000\n",
      "4    0.517241  0.385057  1.0          1.0   0.5  1.000000\n",
      "..        ...       ...  ...          ...   ...       ...\n",
      "537  0.724138  0.787356  1.0          1.0   0.0  0.000000\n",
      "538  0.379310  0.683908  0.0          1.0   1.0  0.333333\n",
      "539  0.827586  0.747126  1.0          1.0   0.5  0.333333\n",
      "540  0.517241  1.000000  0.0          0.0   0.0  0.000000\n",
      "541  0.689655  0.971264  0.0          0.0   0.0  0.666667\n",
      "\n",
      "[542 rows x 6 columns]      admit\n",
      "0        0\n",
      "1        1\n",
      "2        1\n",
      "3        1\n",
      "4        0\n",
      "..     ...\n",
      "537      1\n",
      "538      1\n",
      "539      1\n",
      "540      1\n",
      "541      1\n",
      "\n",
      "[542 rows x 1 columns]\n"
     ]
    }
   ],
   "source": [
    "# X1=X.drop(['admit'],axis='columns')\n",
    "# X1=X1.drop(['rank'],axis='columns')\n",
    "# Y1=Y.copy()\n",
    "print(X,Y)"
   ]
  },
  {
   "cell_type": "markdown",
   "metadata": {},
   "source": [
    "## Building the model (SVC)\n",
    "#### before building the model we have to know the perfect hyperparameters to use \n",
    "#### so that we can get a good accuracy . For that we are using HYPERPARAMETER TUNNING namely GridSearchCV"
   ]
  },
  {
   "cell_type": "code",
   "execution_count": 284,
   "metadata": {},
   "outputs": [
    {
     "name": "stderr",
     "output_type": "stream",
     "text": [
      "/home/akhil/anaconda3/lib/python3.8/site-packages/sklearn/utils/validation.py:985: DataConversionWarning: A column-vector y was passed when a 1d array was expected. Please change the shape of y to (n_samples, ), for example using ravel().\n",
      "  y = column_or_1d(y, warn=True)\n",
      "/home/akhil/anaconda3/lib/python3.8/site-packages/sklearn/utils/validation.py:985: DataConversionWarning: A column-vector y was passed when a 1d array was expected. Please change the shape of y to (n_samples, ), for example using ravel().\n",
      "  y = column_or_1d(y, warn=True)\n",
      "/home/akhil/anaconda3/lib/python3.8/site-packages/sklearn/utils/validation.py:985: DataConversionWarning: A column-vector y was passed when a 1d array was expected. Please change the shape of y to (n_samples, ), for example using ravel().\n",
      "  y = column_or_1d(y, warn=True)\n",
      "/home/akhil/anaconda3/lib/python3.8/site-packages/sklearn/utils/validation.py:985: DataConversionWarning: A column-vector y was passed when a 1d array was expected. Please change the shape of y to (n_samples, ), for example using ravel().\n",
      "  y = column_or_1d(y, warn=True)\n",
      "/home/akhil/anaconda3/lib/python3.8/site-packages/sklearn/utils/validation.py:985: DataConversionWarning: A column-vector y was passed when a 1d array was expected. Please change the shape of y to (n_samples, ), for example using ravel().\n",
      "  y = column_or_1d(y, warn=True)\n",
      "/home/akhil/anaconda3/lib/python3.8/site-packages/sklearn/utils/validation.py:985: DataConversionWarning: A column-vector y was passed when a 1d array was expected. Please change the shape of y to (n_samples, ), for example using ravel().\n",
      "  y = column_or_1d(y, warn=True)\n",
      "/home/akhil/anaconda3/lib/python3.8/site-packages/sklearn/utils/validation.py:985: DataConversionWarning: A column-vector y was passed when a 1d array was expected. Please change the shape of y to (n_samples, ), for example using ravel().\n",
      "  y = column_or_1d(y, warn=True)\n",
      "/home/akhil/anaconda3/lib/python3.8/site-packages/sklearn/utils/validation.py:985: DataConversionWarning: A column-vector y was passed when a 1d array was expected. Please change the shape of y to (n_samples, ), for example using ravel().\n",
      "  y = column_or_1d(y, warn=True)\n",
      "/home/akhil/anaconda3/lib/python3.8/site-packages/sklearn/utils/validation.py:985: DataConversionWarning: A column-vector y was passed when a 1d array was expected. Please change the shape of y to (n_samples, ), for example using ravel().\n",
      "  y = column_or_1d(y, warn=True)\n",
      "/home/akhil/anaconda3/lib/python3.8/site-packages/sklearn/utils/validation.py:985: DataConversionWarning: A column-vector y was passed when a 1d array was expected. Please change the shape of y to (n_samples, ), for example using ravel().\n",
      "  y = column_or_1d(y, warn=True)\n",
      "/home/akhil/anaconda3/lib/python3.8/site-packages/sklearn/utils/validation.py:985: DataConversionWarning: A column-vector y was passed when a 1d array was expected. Please change the shape of y to (n_samples, ), for example using ravel().\n",
      "  y = column_or_1d(y, warn=True)\n",
      "/home/akhil/anaconda3/lib/python3.8/site-packages/sklearn/utils/validation.py:985: DataConversionWarning: A column-vector y was passed when a 1d array was expected. Please change the shape of y to (n_samples, ), for example using ravel().\n",
      "  y = column_or_1d(y, warn=True)\n",
      "/home/akhil/anaconda3/lib/python3.8/site-packages/sklearn/utils/validation.py:985: DataConversionWarning: A column-vector y was passed when a 1d array was expected. Please change the shape of y to (n_samples, ), for example using ravel().\n",
      "  y = column_or_1d(y, warn=True)\n",
      "/home/akhil/anaconda3/lib/python3.8/site-packages/sklearn/utils/validation.py:985: DataConversionWarning: A column-vector y was passed when a 1d array was expected. Please change the shape of y to (n_samples, ), for example using ravel().\n",
      "  y = column_or_1d(y, warn=True)\n",
      "/home/akhil/anaconda3/lib/python3.8/site-packages/sklearn/utils/validation.py:985: DataConversionWarning: A column-vector y was passed when a 1d array was expected. Please change the shape of y to (n_samples, ), for example using ravel().\n",
      "  y = column_or_1d(y, warn=True)\n",
      "/home/akhil/anaconda3/lib/python3.8/site-packages/sklearn/utils/validation.py:985: DataConversionWarning: A column-vector y was passed when a 1d array was expected. Please change the shape of y to (n_samples, ), for example using ravel().\n",
      "  y = column_or_1d(y, warn=True)\n",
      "/home/akhil/anaconda3/lib/python3.8/site-packages/sklearn/utils/validation.py:985: DataConversionWarning: A column-vector y was passed when a 1d array was expected. Please change the shape of y to (n_samples, ), for example using ravel().\n",
      "  y = column_or_1d(y, warn=True)\n",
      "/home/akhil/anaconda3/lib/python3.8/site-packages/sklearn/utils/validation.py:985: DataConversionWarning: A column-vector y was passed when a 1d array was expected. Please change the shape of y to (n_samples, ), for example using ravel().\n",
      "  y = column_or_1d(y, warn=True)\n",
      "/home/akhil/anaconda3/lib/python3.8/site-packages/sklearn/utils/validation.py:985: DataConversionWarning: A column-vector y was passed when a 1d array was expected. Please change the shape of y to (n_samples, ), for example using ravel().\n",
      "  y = column_or_1d(y, warn=True)\n",
      "/home/akhil/anaconda3/lib/python3.8/site-packages/sklearn/utils/validation.py:985: DataConversionWarning: A column-vector y was passed when a 1d array was expected. Please change the shape of y to (n_samples, ), for example using ravel().\n",
      "  y = column_or_1d(y, warn=True)\n",
      "/home/akhil/anaconda3/lib/python3.8/site-packages/sklearn/utils/validation.py:985: DataConversionWarning: A column-vector y was passed when a 1d array was expected. Please change the shape of y to (n_samples, ), for example using ravel().\n",
      "  y = column_or_1d(y, warn=True)\n",
      "/home/akhil/anaconda3/lib/python3.8/site-packages/sklearn/utils/validation.py:985: DataConversionWarning: A column-vector y was passed when a 1d array was expected. Please change the shape of y to (n_samples, ), for example using ravel().\n",
      "  y = column_or_1d(y, warn=True)\n",
      "/home/akhil/anaconda3/lib/python3.8/site-packages/sklearn/utils/validation.py:985: DataConversionWarning: A column-vector y was passed when a 1d array was expected. Please change the shape of y to (n_samples, ), for example using ravel().\n",
      "  y = column_or_1d(y, warn=True)\n",
      "/home/akhil/anaconda3/lib/python3.8/site-packages/sklearn/utils/validation.py:985: DataConversionWarning: A column-vector y was passed when a 1d array was expected. Please change the shape of y to (n_samples, ), for example using ravel().\n",
      "  y = column_or_1d(y, warn=True)\n",
      "/home/akhil/anaconda3/lib/python3.8/site-packages/sklearn/utils/validation.py:985: DataConversionWarning: A column-vector y was passed when a 1d array was expected. Please change the shape of y to (n_samples, ), for example using ravel().\n",
      "  y = column_or_1d(y, warn=True)\n",
      "/home/akhil/anaconda3/lib/python3.8/site-packages/sklearn/utils/validation.py:985: DataConversionWarning: A column-vector y was passed when a 1d array was expected. Please change the shape of y to (n_samples, ), for example using ravel().\n",
      "  y = column_or_1d(y, warn=True)\n",
      "/home/akhil/anaconda3/lib/python3.8/site-packages/sklearn/utils/validation.py:985: DataConversionWarning: A column-vector y was passed when a 1d array was expected. Please change the shape of y to (n_samples, ), for example using ravel().\n",
      "  y = column_or_1d(y, warn=True)\n",
      "/home/akhil/anaconda3/lib/python3.8/site-packages/sklearn/utils/validation.py:985: DataConversionWarning: A column-vector y was passed when a 1d array was expected. Please change the shape of y to (n_samples, ), for example using ravel().\n",
      "  y = column_or_1d(y, warn=True)\n",
      "/home/akhil/anaconda3/lib/python3.8/site-packages/sklearn/utils/validation.py:985: DataConversionWarning: A column-vector y was passed when a 1d array was expected. Please change the shape of y to (n_samples, ), for example using ravel().\n",
      "  y = column_or_1d(y, warn=True)\n",
      "/home/akhil/anaconda3/lib/python3.8/site-packages/sklearn/utils/validation.py:985: DataConversionWarning: A column-vector y was passed when a 1d array was expected. Please change the shape of y to (n_samples, ), for example using ravel().\n",
      "  y = column_or_1d(y, warn=True)\n",
      "/home/akhil/anaconda3/lib/python3.8/site-packages/sklearn/utils/validation.py:985: DataConversionWarning: A column-vector y was passed when a 1d array was expected. Please change the shape of y to (n_samples, ), for example using ravel().\n",
      "  y = column_or_1d(y, warn=True)\n"
     ]
    },
    {
     "data": {
      "text/plain": [
       "{'mean_fit_time': array([0.01362095, 0.00584702, 0.00810404, 0.00634985, 0.00872221,\n",
       "        0.0066021 ]),\n",
       " 'std_fit_time': array([5.08187183e-03, 1.21814620e-04, 1.70743222e-04, 1.97057097e-04,\n",
       "        9.96339347e-05, 2.29111665e-04]),\n",
       " 'mean_score_time': array([0.00500793, 0.00209169, 0.00346851, 0.00224071, 0.00308371,\n",
       "        0.00213728]),\n",
       " 'std_score_time': array([1.96375963e-03, 4.05926518e-05, 5.25274602e-05, 1.49917132e-04,\n",
       "        1.25856649e-04, 7.12428226e-05]),\n",
       " 'param_C': masked_array(data=[0.5, 0.5, 1, 1, 5, 5],\n",
       "              mask=[False, False, False, False, False, False],\n",
       "        fill_value='?',\n",
       "             dtype=object),\n",
       " 'param_kernel': masked_array(data=['rbf', 'linear', 'rbf', 'linear', 'rbf', 'linear'],\n",
       "              mask=[False, False, False, False, False, False],\n",
       "        fill_value='?',\n",
       "             dtype=object),\n",
       " 'params': [{'C': 0.5, 'kernel': 'rbf'},\n",
       "  {'C': 0.5, 'kernel': 'linear'},\n",
       "  {'C': 1, 'kernel': 'rbf'},\n",
       "  {'C': 1, 'kernel': 'linear'},\n",
       "  {'C': 5, 'kernel': 'rbf'},\n",
       "  {'C': 5, 'kernel': 'linear'}],\n",
       " 'split0_test_score': array([0.75229358, 0.70642202, 0.76146789, 0.69724771, 0.79816514,\n",
       "        0.66972477]),\n",
       " 'split1_test_score': array([0.66055046, 0.60550459, 0.70642202, 0.6146789 , 0.72477064,\n",
       "        0.63302752]),\n",
       " 'split2_test_score': array([0.68518519, 0.68518519, 0.73148148, 0.66666667, 0.80555556,\n",
       "        0.66666667]),\n",
       " 'split3_test_score': array([0.76851852, 0.64814815, 0.78703704, 0.64814815, 0.81481481,\n",
       "        0.64814815]),\n",
       " 'split4_test_score': array([0.69444444, 0.61111111, 0.69444444, 0.61111111, 0.69444444,\n",
       "        0.64814815]),\n",
       " 'mean_test_score': array([0.71219844, 0.65127421, 0.73617057, 0.64757051, 0.76755012,\n",
       "        0.65314305]),\n",
       " 'std_test_score': array([0.04121166, 0.0397717 , 0.0342794 , 0.03238508, 0.04855959,\n",
       "        0.01350832]),\n",
       " 'rank_test_score': array([3, 5, 2, 6, 1, 4], dtype=int32)}"
      ]
     },
     "execution_count": 284,
     "metadata": {},
     "output_type": "execute_result"
    }
   ],
   "source": [
    "#internally GridSearchCV use the k-fold technique for training purpose\n",
    "\n",
    "clf=GridSearchCV(SVC(gamma=10),{\n",
    "    'C':[0.5,1,5],\n",
    "    \"kernel\":['rbf','linear']\n",
    "},cv=5,\n",
    "return_train_score=False)\n",
    "\n",
    "clf.fit(X,Y)\n",
    "clf.cv_results_"
   ]
  },
  {
   "cell_type": "code",
   "execution_count": 285,
   "metadata": {},
   "outputs": [
    {
     "data": {
      "text/html": [
       "<div>\n",
       "<style scoped>\n",
       "    .dataframe tbody tr th:only-of-type {\n",
       "        vertical-align: middle;\n",
       "    }\n",
       "\n",
       "    .dataframe tbody tr th {\n",
       "        vertical-align: top;\n",
       "    }\n",
       "\n",
       "    .dataframe thead th {\n",
       "        text-align: right;\n",
       "    }\n",
       "</style>\n",
       "<table border=\"1\" class=\"dataframe\">\n",
       "  <thead>\n",
       "    <tr style=\"text-align: right;\">\n",
       "      <th></th>\n",
       "      <th>param_C</th>\n",
       "      <th>param_kernel</th>\n",
       "      <th>mean_test_score</th>\n",
       "    </tr>\n",
       "  </thead>\n",
       "  <tbody>\n",
       "    <tr>\n",
       "      <th>0</th>\n",
       "      <td>0.5</td>\n",
       "      <td>rbf</td>\n",
       "      <td>0.712198</td>\n",
       "    </tr>\n",
       "    <tr>\n",
       "      <th>1</th>\n",
       "      <td>0.5</td>\n",
       "      <td>linear</td>\n",
       "      <td>0.651274</td>\n",
       "    </tr>\n",
       "    <tr>\n",
       "      <th>2</th>\n",
       "      <td>1</td>\n",
       "      <td>rbf</td>\n",
       "      <td>0.736171</td>\n",
       "    </tr>\n",
       "    <tr>\n",
       "      <th>3</th>\n",
       "      <td>1</td>\n",
       "      <td>linear</td>\n",
       "      <td>0.647571</td>\n",
       "    </tr>\n",
       "    <tr>\n",
       "      <th>4</th>\n",
       "      <td>5</td>\n",
       "      <td>rbf</td>\n",
       "      <td>0.767550</td>\n",
       "    </tr>\n",
       "    <tr>\n",
       "      <th>5</th>\n",
       "      <td>5</td>\n",
       "      <td>linear</td>\n",
       "      <td>0.653143</td>\n",
       "    </tr>\n",
       "  </tbody>\n",
       "</table>\n",
       "</div>"
      ],
      "text/plain": [
       "  param_C param_kernel  mean_test_score\n",
       "0     0.5          rbf         0.712198\n",
       "1     0.5       linear         0.651274\n",
       "2       1          rbf         0.736171\n",
       "3       1       linear         0.647571\n",
       "4       5          rbf         0.767550\n",
       "5       5       linear         0.653143"
      ]
     },
     "execution_count": 285,
     "metadata": {},
     "output_type": "execute_result"
    }
   ],
   "source": [
    "df=pd.DataFrame(clf.cv_results_)\n",
    "df[['param_C','param_kernel','mean_test_score']]"
   ]
  },
  {
   "cell_type": "code",
   "execution_count": 286,
   "metadata": {
    "scrolled": true
   },
   "outputs": [
    {
     "name": "stdout",
     "output_type": "stream",
     "text": [
      "          gre       gpa  ses  Gender_Male  Race      Rank\n",
      "211  0.655172  0.747126  1.0          0.0   0.0  0.333333\n",
      "500  0.448276  0.235632  0.0          0.0   0.0  0.333333\n",
      "497  0.655172  0.936782  0.0          0.0   0.5  0.000000\n",
      "10   1.000000  1.000000  0.0          1.0   0.0  1.000000\n",
      "475  0.793103  0.580460  0.5          0.0   0.5  0.333333\n",
      "..        ...       ...  ...          ...   ...       ...\n",
      "70   0.448276  0.649425  0.5          0.0   0.5  1.000000\n",
      "277  0.758621  0.965517  0.5          1.0   0.0  0.333333\n",
      "9    0.827586  0.954023  0.0          0.0   0.5  0.333333\n",
      "359  0.793103  0.505747  0.0          1.0   0.0  0.333333\n",
      "192  0.655172  0.695402  0.0          0.0   0.5  0.333333\n",
      "\n",
      "[433 rows x 6 columns]           gre       gpa  ses  Gender_Male  Race      Rank\n",
      "380  0.448276  0.206897  0.5          1.0   0.0  0.333333\n",
      "155  0.448276  0.758621  0.0          1.0   0.0  0.000000\n",
      "132  0.586207  0.396552  1.0          1.0   0.0  0.333333\n",
      "456  0.448276  0.235632  0.0          0.0   0.0  0.333333\n",
      "90   1.000000  0.942529  1.0          1.0   0.0  0.333333\n",
      "..        ...       ...  ...          ...   ...       ...\n",
      "118  0.517241  0.850575  0.5          0.0   0.5  0.333333\n",
      "501  0.689655  1.000000  0.5          0.0   0.5  0.000000\n",
      "243  0.793103  0.620690  1.0          0.0   0.0  0.333333\n",
      "372  0.586207  0.706897  1.0          0.0   0.0  1.000000\n",
      "231  1.000000  0.729885  1.0          0.0   0.0  0.000000\n",
      "\n",
      "[109 rows x 6 columns]      admit\n",
      "211      1\n",
      "500      1\n",
      "497      1\n",
      "10       0\n",
      "475      1\n",
      "..     ...\n",
      "70       0\n",
      "277      0\n",
      "9        0\n",
      "359      0\n",
      "192      1\n",
      "\n",
      "[433 rows x 1 columns]      admit\n",
      "380      1\n",
      "155      1\n",
      "132      0\n",
      "456      1\n",
      "90       0\n",
      "..     ...\n",
      "118      1\n",
      "501      1\n",
      "243      0\n",
      "372      0\n",
      "231      1\n",
      "\n",
      "[109 rows x 1 columns]\n"
     ]
    }
   ],
   "source": [
    "#here we are spliting our dataset into training and testing sets\n",
    "\n",
    "x_train,x_test,y_train,y_test=train_test_split(X,Y,test_size=0.2,random_state=0)\n",
    "print(x_train,x_test,y_train,y_test)"
   ]
  },
  {
   "cell_type": "markdown",
   "metadata": {},
   "source": [
    "### after knowing the hyperparameters from the GridSearchCV\n",
    "### we are going to build the model "
   ]
  },
  {
   "cell_type": "code",
   "execution_count": 287,
   "metadata": {},
   "outputs": [
    {
     "name": "stderr",
     "output_type": "stream",
     "text": [
      "/home/akhil/anaconda3/lib/python3.8/site-packages/sklearn/utils/validation.py:985: DataConversionWarning: A column-vector y was passed when a 1d array was expected. Please change the shape of y to (n_samples, ), for example using ravel().\n",
      "  y = column_or_1d(y, warn=True)\n"
     ]
    },
    {
     "data": {
      "text/plain": [
       "0.7798165137614679"
      ]
     },
     "execution_count": 287,
     "metadata": {},
     "output_type": "execute_result"
    }
   ],
   "source": [
    "# intializing the clf to SVC\n",
    "clf=SVC(kernel='rbf',C=5,gamma=10)\n",
    "\n",
    "#fiting the data\n",
    "clf.fit(x_train,y_train)\n",
    "\n",
    "# testing the accuracy of the model\n",
    "clf.score(x_test,y_test)"
   ]
  },
  {
   "cell_type": "code",
   "execution_count": 300,
   "metadata": {},
   "outputs": [
    {
     "name": "stderr",
     "output_type": "stream",
     "text": [
      "/home/akhil/anaconda3/lib/python3.8/site-packages/sklearn/base.py:441: UserWarning: X does not have valid feature names, but MinMaxScaler was fitted with feature names\n",
      "  warnings.warn(\n",
      "/home/akhil/anaconda3/lib/python3.8/site-packages/sklearn/base.py:441: UserWarning: X does not have valid feature names, but SVC was fitted with feature names\n",
      "  warnings.warn(\n"
     ]
    }
   ],
   "source": [
    "# predicting the sample data\n",
    "sample=[520,2.93,3,1,2,4]\n",
    "pred=clf.predict(scale.transform([sample]))"
   ]
  },
  {
   "cell_type": "code",
   "execution_count": 301,
   "metadata": {},
   "outputs": [
    {
     "name": "stdout",
     "output_type": "stream",
     "text": [
      "0\n"
     ]
    }
   ],
   "source": [
    "print(pred[0])"
   ]
  },
  {
   "cell_type": "code",
   "execution_count": 302,
   "metadata": {},
   "outputs": [
    {
     "name": "stdout",
     "output_type": "stream",
     "text": [
      "NO\n"
     ]
    }
   ],
   "source": [
    "if pred[0]==1:\n",
    "    print(\"YES\")\n",
    "else:\n",
    "    print(\"NO\")"
   ]
  },
  {
   "cell_type": "markdown",
   "metadata": {},
   "source": [
    "## The student got admitted"
   ]
  },
  {
   "cell_type": "code",
   "execution_count": null,
   "metadata": {},
   "outputs": [],
   "source": []
  }
 ],
 "metadata": {
  "kernelspec": {
   "display_name": "Python 3",
   "language": "python",
   "name": "python3"
  },
  "language_info": {
   "codemirror_mode": {
    "name": "ipython",
    "version": 3
   },
   "file_extension": ".py",
   "mimetype": "text/x-python",
   "name": "python",
   "nbconvert_exporter": "python",
   "pygments_lexer": "ipython3",
   "version": "3.8.5"
  }
 },
 "nbformat": 4,
 "nbformat_minor": 5
}
